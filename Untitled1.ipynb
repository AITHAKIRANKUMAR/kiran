{
 "cells": [
  {
   "cell_type": "code",
   "execution_count": 1,
   "id": "30e26c7d-5ee5-4aaf-8b96-d79b971fdf29",
   "metadata": {},
   "outputs": [
    {
     "name": "stdout",
     "output_type": "stream",
     "text": [
      "positive\n"
     ]
    }
   ],
   "source": [
    "x = 10\n",
    "result = 'positive' if x > 0 else \"negative\"\n",
    "print(result)\n"
   ]
  },
  {
   "cell_type": "code",
   "execution_count": 3,
   "id": "ad896b18-15b5-4c0d-af3e-d736cce124c9",
   "metadata": {},
   "outputs": [
    {
     "name": "stdin",
     "output_type": "stream",
     "text": [
      "Enter a number 656\n"
     ]
    },
    {
     "name": "stdout",
     "output_type": "stream",
     "text": [
      "positive\n"
     ]
    }
   ],
   "source": [
    "num = int(input(\"Enter a number\"))\n",
    "result = \"positive\" if num > 0 else (\"negative\" if num < 0 else \"Zero\")\n",
    "print(result)\n",
    " "
   ]
  },
  {
   "cell_type": "code",
   "execution_count": 7,
   "id": "68024432-1c32-4d3f-9638-3c4fee252773",
   "metadata": {},
   "outputs": [
    {
     "data": {
      "text/plain": [
       "[2, 18, 4, 20, 112, 178]"
      ]
     },
     "execution_count": 7,
     "metadata": {},
     "output_type": "execute_result"
    }
   ],
   "source": [
    "##list compherhension###\n",
    "L =[1,9,2,10,56,89]\n",
    "[2*x for x in L ]"
   ]
  },
  {
   "cell_type": "code",
   "execution_count": 8,
   "id": "2ac61b0d-c83c-4843-8945-09981bcde946",
   "metadata": {},
   "outputs": [
    {
     "data": {
      "text/plain": [
       "[4, 20, 112]"
      ]
     },
     "execution_count": 8,
     "metadata": {},
     "output_type": "execute_result"
    }
   ],
   "source": [
    " L =[1,9,2,10,56,89]\n",
    "[2*x for x in L  if x%2 == 0]"
   ]
  },
  {
   "cell_type": "code",
   "execution_count": 10,
   "id": "d0effeda-4ba9-4d2e-a383-fdee9553d444",
   "metadata": {},
   "outputs": [
    {
     "data": {
      "text/plain": [
       "[2, 18, 178]"
      ]
     },
     "execution_count": 10,
     "metadata": {},
     "output_type": "execute_result"
    }
   ],
   "source": [
    "L =[1,9,2,10,56,89]\n",
    "[2*x for x in L  if x%2 != 0]"
   ]
  },
  {
   "cell_type": "code",
   "execution_count": 14,
   "id": "351393f2-579a-490c-ad59-c87418bb4c97",
   "metadata": {},
   "outputs": [
    {
     "data": {
      "text/plain": [
       "[[1, 9, 2, 10, 56, 89, 1, 9, 2, 10, 56, 89]]"
      ]
     },
     "execution_count": 14,
     "metadata": {},
     "output_type": "execute_result"
    }
   ],
   "source": [
    "L =[1,9,2,10,56,89]\n",
    "[ 2*L if x%2 == 0 else x !=0]"
   ]
  },
  {
   "cell_type": "code",
   "execution_count": 23,
   "id": "6135aea8-7a6f-4ade-98d8-c69b91a8a6fd",
   "metadata": {},
   "outputs": [
    {
     "data": {
      "text/plain": [
       "[48000.0, 48000.0, 60000.0, 30000.0]"
      ]
     },
     "execution_count": 23,
     "metadata": {},
     "output_type": "execute_result"
    }
   ],
   "source": [
    "###print updated salarie###\n",
    "# condition is given 20% hiike for ## salaries <=50000\n",
    "salaries =[ 40000, 40000, 50000,25000]\n",
    "[salary  * 1.2 if salary <= 50000 else salary for salary in salaries ]"
   ]
  },
  {
   "cell_type": "code",
   "execution_count": 24,
   "id": "d5c27504-0fed-4443-a517-e996987ca44d",
   "metadata": {},
   "outputs": [
    {
     "data": {
      "text/plain": [
       "{'ram': [70, 71, 98, 100], 'john': [56, 98, 67, 65]}"
      ]
     },
     "execution_count": 24,
     "metadata": {},
     "output_type": "execute_result"
    }
   ],
   "source": [
    "###dictionary compherision##\n",
    "d1 = {\"ram\" :[70,71,98,100], \"john\" :[56,98,67,65]}\n",
    "d1"
   ]
  },
  {
   "cell_type": "code",
   "execution_count": 29,
   "id": "75135f97-e105-4ba0-9781-8c964050fbd9",
   "metadata": {},
   "outputs": [
    {
     "data": {
      "text/plain": [
       "{'ram': 84.75, 'john': 71.5}"
      ]
     },
     "execution_count": 29,
     "metadata": {},
     "output_type": "execute_result"
    }
   ],
   "source": [
    "{k:sum(v)/len(v) for k,v in d1.items()}"
   ]
  },
  {
   "cell_type": "code",
   "execution_count": 38,
   "id": "11276563-9e23-4a0a-a59d-0a64c1fc0a9c",
   "metadata": {},
   "outputs": [
    {
     "data": {
      "text/plain": [
       "3.0"
      ]
     },
     "execution_count": 38,
     "metadata": {},
     "output_type": "execute_result"
    }
   ],
   "source": [
    "### define function ###\n",
    "def mean_value(given_list):\n",
    "    total = sum(given_list)\n",
    "    average_value = total / len(given_list)\n",
    "    return average_value\n",
    "L = [1,2,3,4,5,]\n",
    "mean_value(L)"
   ]
  },
  {
   "cell_type": "code",
   "execution_count": 45,
   "id": "4a14d2b9-3ec6-4755-946b-06790e249169",
   "metadata": {},
   "outputs": [
    {
     "ename": "SyntaxError",
     "evalue": "unterminated string literal (detected at line 3) (1393507969.py, line 3)",
     "output_type": "error",
     "traceback": [
      "\u001b[1;36m  Cell \u001b[1;32mIn[45], line 3\u001b[1;36m\u001b[0m\n\u001b[1;33m    h = \"kiran\u001b[0m\n\u001b[1;37m        ^\u001b[0m\n\u001b[1;31mSyntaxError\u001b[0m\u001b[1;31m:\u001b[0m unterminated string literal (detected at line 3)\n"
     ]
    }
   ],
   "source": [
    "def greet(name):\n",
    "return f\"Good Morning, {name}!\"\n",
    "h = \"kiran\n",
    "greet(h)"
   ]
  },
  {
   "cell_type": "code",
   "execution_count": 49,
   "id": "224da8f6-2919-4ef8-af95-0be192b63c76",
   "metadata": {},
   "outputs": [
    {
     "data": {
      "text/plain": [
       "238.0"
      ]
     },
     "execution_count": 49,
     "metadata": {},
     "output_type": "execute_result"
    }
   ],
   "source": [
    "### function with varible number of arguments##\n",
    "def avg_value(*n):\n",
    "    l = len(n)\n",
    "    average = sum(n)/1\n",
    "    return average\n",
    "avg_value(19,39,30,50,100,)"
   ]
  },
  {
   "cell_type": "code",
   "execution_count": null,
   "id": "d65b3d36-9858-4139-94ba-99b828bd123d",
   "metadata": {},
   "outputs": [],
   "source": []
  },
  {
   "cell_type": "code",
   "execution_count": null,
   "id": "bad64356-6651-418c-ae22-fdca07d730a9",
   "metadata": {},
   "outputs": [],
   "source": []
  }
 ],
 "metadata": {
  "kernelspec": {
   "display_name": "Python 3 (ipykernel)",
   "language": "python",
   "name": "python3"
  },
  "language_info": {
   "codemirror_mode": {
    "name": "ipython",
    "version": 3
   },
   "file_extension": ".py",
   "mimetype": "text/x-python",
   "name": "python",
   "nbconvert_exporter": "python",
   "pygments_lexer": "ipython3",
   "version": "3.12.7"
  }
 },
 "nbformat": 4,
 "nbformat_minor": 5
}
